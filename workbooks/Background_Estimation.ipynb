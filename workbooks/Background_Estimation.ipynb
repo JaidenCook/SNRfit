{
 "cells": [
  {
   "attachments": {},
   "cell_type": "markdown",
   "metadata": {},
   "source": [
    "# Estimating the Background\n",
    "\n",
    "In this workbook we will investigate different methods for estimating the background for a test SNR. We will trial a simple constant background method, and a more complicated estimation method. We will compare the fit results between the two methods."
   ]
  },
  {
   "cell_type": "code",
   "execution_count": null,
   "metadata": {},
   "outputs": [],
   "source": []
  }
 ],
 "metadata": {
  "language_info": {
   "name": "python"
  },
  "orig_nbformat": 4
 },
 "nbformat": 4,
 "nbformat_minor": 2
}
